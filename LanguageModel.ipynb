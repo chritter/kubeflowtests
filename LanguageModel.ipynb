{
 "cells": [
  {
   "cell_type": "markdown",
   "metadata": {},
   "source": [
    "# Inference using the Model Zoo for Intel® Architecture\n",
    "\n",
    "* https://github.com/IntelAI/models\n",
    "* https://aihub.cloud.google.com/u/0/p/products%2Fc8019607-bf98-4870-bc32-2d19f6ab8766"
   ]
  },
  {
   "cell_type": "markdown",
   "metadata": {},
   "source": [
    "This notebook goes through the process of creating a KubeFlow pipeline component which runs a simple TensorFlow inference example using code from the [Model Zoo for Intel® Architecture](https://github.com/IntelAI/models).\n",
    "\n",
    "We start out by defining variables for our experiment and the parameters that we will use to run the TensorFlow model, such as the name of the model, batch size, etc."
   ]
  },
  {
   "cell_type": "code",
   "execution_count": 1,
   "metadata": {},
   "outputs": [],
   "source": [
    "EXPERIMENT_NAME = 'Model Zoo pipeline experiments'\n",
    "KFP_PACKAGE = 'https://storage.googleapis.com/ml-pipeline/release/0.1.20/kfp.tar.gz'\n",
    "\n",
    "MODEL_NAME = \"gnmt\"\n",
    "PRECISION = \"fp32\"\n",
    "MODE = \"inference\"\n",
    "BATCH_SIZE = \"32\"\n",
    "SOCKET_ID = \"0\"\n",
    "DATA_LOCATION = \"gs://BUCKET_NAME/wmt16/\"\n",
    "PERFORMANCE_OR_ACCURACY = \"performance\"\n",
    "DOCKER_IMAGE = \"gcr.io/my-registry/intel-model-zoo:language-translation\""
   ]
  },
  {
   "cell_type": "markdown",
   "metadata": {},
   "source": [
    "## Install dependencies\n",
    "\n",
    "The next step installs the KubeFlow Pipelines SDK based on the `KFP_PACKAGE` release that was defined in the variable above."
   ]
  },
  {
   "cell_type": "code",
   "execution_count": 4,
   "metadata": {},
   "outputs": [
    {
     "name": "stdout",
     "output_type": "stream",
     "text": [
      "Collecting https://storage.googleapis.com/ml-pipeline/release/0.1.20/kfp.tar.gz\n",
      "  Using cached https://storage.googleapis.com/ml-pipeline/release/0.1.20/kfp.tar.gz\n",
      "Collecting urllib3<1.25,>=1.15\n",
      "  Using cached https://files.pythonhosted.org/packages/01/11/525b02e4acc0c747de8b6ccdab376331597c569c42ea66ab0a1dbd36eca2/urllib3-1.24.3-py2.py3-none-any.whl\n",
      "Requirement already satisfied, skipping upgrade: six>=1.10 in /usr/local/lib/python3.6/dist-packages (from kfp==0.1.20) (1.13.0)\n",
      "Requirement already satisfied, skipping upgrade: certifi in /usr/local/lib/python3.6/dist-packages (from kfp==0.1.20) (2019.11.28)\n",
      "Requirement already satisfied, skipping upgrade: python-dateutil in /usr/local/lib/python3.6/dist-packages (from kfp==0.1.20) (2.8.1)\n",
      "Requirement already satisfied, skipping upgrade: PyYAML in /usr/local/lib/python3.6/dist-packages (from kfp==0.1.20) (5.3)\n",
      "Requirement already satisfied, skipping upgrade: google-cloud-storage>=1.13.0 in /usr/local/lib/python3.6/dist-packages (from kfp==0.1.20) (1.25.0)\n",
      "Collecting kubernetes<=9.0.0,>=8.0.0\n",
      "  Using cached https://files.pythonhosted.org/packages/00/f7/4f196c55f1c2713d3edc8252c4b45326306eef4dc10048f13916fe446e2b/kubernetes-9.0.0-py2.py3-none-any.whl\n",
      "Collecting PyJWT>=1.6.4\n",
      "  Using cached https://files.pythonhosted.org/packages/87/8b/6a9f14b5f781697e51259d81657e6048fd31a113229cf346880bb7545565/PyJWT-1.7.1-py2.py3-none-any.whl\n",
      "Collecting cryptography>=2.4.2\n",
      "  Using cached https://files.pythonhosted.org/packages/ca/9a/7cece52c46546e214e10811b36b2da52ce1ea7fa203203a629b8dfadad53/cryptography-2.8-cp34-abi3-manylinux2010_x86_64.whl\n",
      "Requirement already satisfied, skipping upgrade: google-auth>=1.6.1 in /usr/local/lib/python3.6/dist-packages (from kfp==0.1.20) (1.10.0)\n",
      "Collecting requests_toolbelt>=0.8.0\n",
      "  Using cached https://files.pythonhosted.org/packages/60/ef/7681134338fc097acef8d9b2f8abe0458e4d87559c689a8c306d0957ece5/requests_toolbelt-0.9.1-py2.py3-none-any.whl\n",
      "Processing ./.cache/pip/wheels/07/13/f3/31e9e1a25e10b8c3d04df74a01f4dbcf16a4119272cd41ba7a/kfp_server_api-0.1.18.3-cp36-none-any.whl\n",
      "Requirement already satisfied, skipping upgrade: google-cloud-core<2.0dev,>=1.2.0 in /usr/local/lib/python3.6/dist-packages (from google-cloud-storage>=1.13.0->kfp==0.1.20) (1.3.0)\n",
      "Requirement already satisfied, skipping upgrade: google-resumable-media<0.6dev,>=0.5.0 in /usr/local/lib/python3.6/dist-packages (from google-cloud-storage>=1.13.0->kfp==0.1.20) (0.5.0)\n",
      "Requirement already satisfied, skipping upgrade: websocket-client!=0.40.0,!=0.41.*,!=0.42.*,>=0.32.0 in /usr/local/lib/python3.6/dist-packages (from kubernetes<=9.0.0,>=8.0.0->kfp==0.1.20) (0.57.0)\n",
      "Requirement already satisfied, skipping upgrade: requests-oauthlib in /usr/local/lib/python3.6/dist-packages (from kubernetes<=9.0.0,>=8.0.0->kfp==0.1.20) (1.3.0)\n",
      "Requirement already satisfied, skipping upgrade: setuptools>=21.0.0 in /usr/local/lib/python3.6/dist-packages (from kubernetes<=9.0.0,>=8.0.0->kfp==0.1.20) (44.0.0)\n",
      "Requirement already satisfied, skipping upgrade: requests in /usr/local/lib/python3.6/dist-packages (from kubernetes<=9.0.0,>=8.0.0->kfp==0.1.20) (2.22.0)\n",
      "Collecting cffi!=1.11.3,>=1.8\n",
      "  Using cached https://files.pythonhosted.org/packages/f1/c7/72abda280893609e1ddfff90f8064568bd8bcb2c1770a9d5bb5edb2d1fea/cffi-1.14.0-cp36-cp36m-manylinux1_x86_64.whl\n",
      "Requirement already satisfied, skipping upgrade: cachetools<5.0,>=2.0.0 in /usr/local/lib/python3.6/dist-packages (from google-auth>=1.6.1->kfp==0.1.20) (4.0.0)\n",
      "Requirement already satisfied, skipping upgrade: pyasn1-modules>=0.2.1 in /usr/local/lib/python3.6/dist-packages (from google-auth>=1.6.1->kfp==0.1.20) (0.2.8)\n",
      "Requirement already satisfied, skipping upgrade: rsa<4.1,>=3.1.4 in /usr/local/lib/python3.6/dist-packages (from google-auth>=1.6.1->kfp==0.1.20) (4.0)\n",
      "Requirement already satisfied, skipping upgrade: google-api-core<2.0.0dev,>=1.16.0 in /usr/local/lib/python3.6/dist-packages (from google-cloud-core<2.0dev,>=1.2.0->google-cloud-storage>=1.13.0->kfp==0.1.20) (1.16.0)\n",
      "Requirement already satisfied, skipping upgrade: oauthlib>=3.0.0 in /usr/local/lib/python3.6/dist-packages (from requests-oauthlib->kubernetes<=9.0.0,>=8.0.0->kfp==0.1.20) (3.1.0)\n",
      "Requirement already satisfied, skipping upgrade: idna<2.9,>=2.5 in /usr/lib/python3/dist-packages (from requests->kubernetes<=9.0.0,>=8.0.0->kfp==0.1.20) (2.6)\n",
      "Requirement already satisfied, skipping upgrade: chardet<3.1.0,>=3.0.2 in /usr/local/lib/python3.6/dist-packages (from requests->kubernetes<=9.0.0,>=8.0.0->kfp==0.1.20) (3.0.4)\n",
      "Collecting pycparser\n",
      "  Using cached https://files.pythonhosted.org/packages/ae/e7/d9c3a176ca4b02024debf82342dab36efadfc5776f9c8db077e8f6e71821/pycparser-2.20-py2.py3-none-any.whl\n",
      "Requirement already satisfied, skipping upgrade: pyasn1<0.5.0,>=0.4.6 in /usr/local/lib/python3.6/dist-packages (from pyasn1-modules>=0.2.1->google-auth>=1.6.1->kfp==0.1.20) (0.4.8)\n",
      "Requirement already satisfied, skipping upgrade: googleapis-common-protos<2.0dev,>=1.6.0 in /usr/local/lib/python3.6/dist-packages (from google-api-core<2.0.0dev,>=1.16.0->google-cloud-core<2.0dev,>=1.2.0->google-cloud-storage>=1.13.0->kfp==0.1.20) (1.51.0)\n",
      "Requirement already satisfied, skipping upgrade: pytz in /usr/local/lib/python3.6/dist-packages (from google-api-core<2.0.0dev,>=1.16.0->google-cloud-core<2.0dev,>=1.2.0->google-cloud-storage>=1.13.0->kfp==0.1.20) (2019.3)\n",
      "Requirement already satisfied, skipping upgrade: protobuf>=3.4.0 in /usr/local/lib/python3.6/dist-packages (from google-api-core<2.0.0dev,>=1.16.0->google-cloud-core<2.0dev,>=1.2.0->google-cloud-storage>=1.13.0->kfp==0.1.20) (3.11.2)\n",
      "Building wheels for collected packages: kfp\n",
      "  Building wheel for kfp (setup.py) ... \u001b[?25ldone\n",
      "\u001b[?25h  Created wheel for kfp: filename=kfp-0.1.20-cp36-none-any.whl size=94868 sha256=a2b242bfab0215b59a6167974a5cc4c9c23b933d14dfdc5ff73408ac068135b6\n",
      "  Stored in directory: /tmp/pip-ephem-wheel-cache-kcyq_542/wheels/ae/bb/02/32b1356ee756181099d8f1b0950ac6567cb2b38e71b48f02e8\n",
      "Successfully built kfp\n",
      "Installing collected packages: urllib3, kubernetes, PyJWT, pycparser, cffi, cryptography, requests-toolbelt, kfp-server-api, kfp\n",
      "\u001b[33m  WARNING: The script pyjwt is installed in '/home/jovyan/.local/bin' which is not on PATH.\n",
      "  Consider adding this directory to PATH or, if you prefer to suppress this warning, use --no-warn-script-location.\u001b[0m\n",
      "\u001b[33m  WARNING: The script dsl-compile is installed in '/home/jovyan/.local/bin' which is not on PATH.\n",
      "  Consider adding this directory to PATH or, if you prefer to suppress this warning, use --no-warn-script-location.\u001b[0m\n",
      "Successfully installed PyJWT-1.7.1 cffi-1.14.0 cryptography-2.8 kfp-0.1.20 kfp-server-api-0.1.18.3 kubernetes-9.0.0 pycparser-2.20 requests-toolbelt-0.9.1 urllib3-1.24.3\n",
      "\u001b[33mWARNING: You are using pip version 19.3.1; however, version 20.0.2 is available.\n",
      "You should consider upgrading via the 'pip install --upgrade pip' command.\u001b[0m\n"
     ]
    }
   ],
   "source": [
    "!pip3 install $KFP_PACKAGE --upgrade --user"
   ]
  },
  {
   "cell_type": "code",
   "execution_count": null,
   "metadata": {},
   "outputs": [],
   "source": []
  },
  {
   "cell_type": "markdown",
   "metadata": {},
   "source": [
    "##  Define the pipeline\n",
    "The KubeFlow Pipeline SDK is then used to define the pipeline which we will use to run inference using the model zoo. It defines the runtime parameters and uses those parameters to call the launch script, which is in the docker container."
   ]
  },
  {
   "cell_type": "code",
   "execution_count": 5,
   "metadata": {},
   "outputs": [
    {
     "ename": "ModuleNotFoundError",
     "evalue": "No module named 'kfp'",
     "output_type": "error",
     "traceback": [
      "\u001b[0;31m---------------------------------------------------------------------------\u001b[0m",
      "\u001b[0;31mModuleNotFoundError\u001b[0m                       Traceback (most recent call last)",
      "\u001b[0;32m<ipython-input-5-37f36eea74ea>\u001b[0m in \u001b[0;36m<module>\u001b[0;34m\u001b[0m\n\u001b[0;32m----> 1\u001b[0;31m \u001b[0;32mimport\u001b[0m \u001b[0mkfp\u001b[0m\u001b[0;34m.\u001b[0m\u001b[0mdsl\u001b[0m \u001b[0;32mas\u001b[0m \u001b[0mdsl\u001b[0m\u001b[0;34m\u001b[0m\u001b[0;34m\u001b[0m\u001b[0m\n\u001b[0m\u001b[1;32m      2\u001b[0m \u001b[0;32mimport\u001b[0m \u001b[0mkfp\u001b[0m\u001b[0;34m.\u001b[0m\u001b[0mgcp\u001b[0m \u001b[0;32mas\u001b[0m \u001b[0mgcp\u001b[0m\u001b[0;34m\u001b[0m\u001b[0;34m\u001b[0m\u001b[0m\n\u001b[1;32m      3\u001b[0m \u001b[0;34m\u001b[0m\u001b[0m\n\u001b[1;32m      4\u001b[0m @dsl.pipeline(\n\u001b[1;32m      5\u001b[0m   \u001b[0mname\u001b[0m\u001b[0;34m=\u001b[0m\u001b[0;34m'Model Zoo Pipeline'\u001b[0m\u001b[0;34m,\u001b[0m\u001b[0;34m\u001b[0m\u001b[0;34m\u001b[0m\u001b[0m\n",
      "\u001b[0;31mModuleNotFoundError\u001b[0m: No module named 'kfp'"
     ]
    }
   ],
   "source": [
    "import kfp.dsl as dsl\n",
    "import kfp.gcp as gcp\n",
    "\n",
    "@dsl.pipeline(\n",
    "  name='Model Zoo Pipeline',\n",
    "  description='A pipeline that runs TensorFlow benchmarking using the Model Zoo for Intel Architecture.'\n",
    ")\n",
    "def model_zoo_for_intel_architecture(\n",
    "        data_location='',\n",
    "        model_name='gnmt',\n",
    "        precision='fp32',\n",
    "        mode='inference',\n",
    "        batch_size='32',\n",
    "        socket_id='0',\n",
    "        verbose='true',\n",
    "        performance_or_accuracy='performance',\n",
    "        extra_model_args='',\n",
    "        docker_image=''):\n",
    "  \"\"\"\n",
    "  This is a one-step pipeline that runs benchmarking using the specified parameters\n",
    "  \"\"\"\n",
    "\n",
    "  model_zoo_component = dsl.ContainerOp(\n",
    "      name='model_zoo_component',\n",
    "      image=docker_image,\n",
    "      arguments=[\"src/launch_inference.py\",\n",
    "                 \"--model-name\", model_name,\n",
    "                 \"--framework\", \"tensorflow\",\n",
    "                 \"--precision\", precision,\n",
    "                 \"--mode\", mode,\n",
    "                 \"--performance-or-accuracy\", performance_or_accuracy,\n",
    "                 \"--batch-size\", batch_size,\n",
    "                 \"--socket-id\", socket_id,\n",
    "                 \"--verbose\", verbose,\n",
    "                 \"--data-location\", data_location,\n",
    "                 \"--extra-model-args\", extra_model_args]\n",
    "  ).apply(gcp.use_gcp_secret('user-gcp-sa'))\n",
    "  model_zoo_component.set_image_pull_policy(\"Always\")"
   ]
  },
  {
   "cell_type": "markdown",
   "metadata": {},
   "source": [
    "## Compile the pipeline\n",
    "\n",
    "Next, the pipeline is compiled into a file called `pipeline.tar.gz`."
   ]
  },
  {
   "cell_type": "code",
   "execution_count": null,
   "metadata": {},
   "outputs": [],
   "source": [
    "import kfp.compiler as compiler\n",
    "\n",
    "pipeline_filename = 'pipeline.tar.gz'\n",
    "compiler.Compiler().compile(model_zoo_for_intel_architecture, pipeline_filename)"
   ]
  },
  {
   "cell_type": "markdown",
   "metadata": {},
   "source": [
    "## Run the pipeline\n",
    "\n",
    "In this last step, a dictionary is setup with the runtime arguments that specify which model to run, an experiment is created, and then the pipeline is run."
   ]
  },
  {
   "cell_type": "code",
   "execution_count": null,
   "metadata": {},
   "outputs": [],
   "source": [
    "# Setup arguments to run model\n",
    "arguments = {\n",
    "    \"model_name\": MODEL_NAME,\n",
    "    \"precision\": PRECISION,\n",
    "    \"mode\": MODE,\n",
    "    \"batch_size\": BATCH_SIZE,\n",
    "    \"socket_id\": SOCKET_ID,\n",
    "    \"performance_or_accuracy\": PERFORMANCE_OR_ACCURACY,\n",
    "    \"data_location\": DATA_LOCATION,\n",
    "    \"docker_image\": DOCKER_IMAGE\n",
    "}\n",
    "\n",
    "# Create an experiment\n",
    "import kfp\n",
    "client = kfp.Client()\n",
    "experiment = client.create_experiment(EXPERIMENT_NAME)\n",
    "\n",
    "# Run the pipeline\n",
    "run_name = pipeline_func.__name__ + ' {} {} {}'.format(model_name, precision, mode)\n",
    "run_result = client.run_pipeline(experiment.id, run_name, pipeline_filename, arguments)"
   ]
  }
 ],
 "metadata": {
  "kernelspec": {
   "display_name": "Python 3",
   "language": "python",
   "name": "python3"
  },
  "language_info": {
   "codemirror_mode": {
    "name": "ipython",
    "version": 3
   },
   "file_extension": ".py",
   "mimetype": "text/x-python",
   "name": "python",
   "nbconvert_exporter": "python",
   "pygments_lexer": "ipython3",
   "version": "3.6.9"
  }
 },
 "nbformat": 4,
 "nbformat_minor": 1
}
